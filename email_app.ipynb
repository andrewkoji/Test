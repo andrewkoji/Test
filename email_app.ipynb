{
  "nbformat": 4,
  "nbformat_minor": 0,
  "metadata": {
    "colab": {
      "provenance": [],
      "authorship_tag": "ABX9TyMIfUmweGRURXAHVIIWVJI6",
      "include_colab_link": true
    },
    "kernelspec": {
      "name": "python3",
      "display_name": "Python 3"
    },
    "language_info": {
      "name": "python"
    }
  },
  "cells": [
    {
      "cell_type": "markdown",
      "metadata": {
        "id": "view-in-github",
        "colab_type": "text"
      },
      "source": [
        "<a href=\"https://colab.research.google.com/github/andrewkoji/Test/blob/main/email_app.ipynb\" target=\"_parent\"><img src=\"https://colab.research.google.com/assets/colab-badge.svg\" alt=\"Open In Colab\"/></a>"
      ]
    },
    {
      "cell_type": "code",
      "execution_count": 1,
      "metadata": {
        "colab": {
          "base_uri": "https://localhost:8080/"
        },
        "id": "1SR2e77BnUD9",
        "outputId": "355b2e44-4dbd-49df-8820-e351b9520929"
      },
      "outputs": [
        {
          "output_type": "stream",
          "name": "stdout",
          "text": [
            "Looking in indexes: https://pypi.org/simple, https://us-python.pkg.dev/colab-wheels/public/simple/\n",
            "Requirement already satisfied: requests in /usr/local/lib/python3.7/dist-packages (2.23.0)\n",
            "Requirement already satisfied: urllib3!=1.25.0,!=1.25.1,<1.26,>=1.21.1 in /usr/local/lib/python3.7/dist-packages (from requests) (1.24.3)\n",
            "Requirement already satisfied: certifi>=2017.4.17 in /usr/local/lib/python3.7/dist-packages (from requests) (2022.6.15)\n",
            "Requirement already satisfied: idna<3,>=2.5 in /usr/local/lib/python3.7/dist-packages (from requests) (2.10)\n",
            "Requirement already satisfied: chardet<4,>=3.0.2 in /usr/local/lib/python3.7/dist-packages (from requests) (3.0.4)\n"
          ]
        }
      ],
      "source": [
        "!pip install requests\n"
      ]
    },
    {
      "cell_type": "code",
      "source": [
        "import requests\n",
        "import smtplib"
      ],
      "metadata": {
        "id": "cgre0AQMpRCA"
      },
      "execution_count": 47,
      "outputs": []
    },
    {
      "cell_type": "code",
      "source": [
        "your_name = \"Andrew Levinton\"\n",
        "your_email = \"alevinton151@gmail.com\"\n",
        "your_password = \"xqlbkrdzubptrvvz\"\n",
        "\n",
        "server = smtplib.SMTP_SSL('smtp.gmail.com', 465)\n",
        "server.ehlo()\n",
        "server.login(your_email, your_password)"
      ],
      "metadata": {
        "colab": {
          "base_uri": "https://localhost:8080/"
        },
        "id": "pMuWgNCnnYJ5",
        "outputId": "d98757ae-0fcf-41f0-d9d1-242aef201daa"
      },
      "execution_count": 48,
      "outputs": [
        {
          "output_type": "execute_result",
          "data": {
            "text/plain": [
              "(235, b'2.7.0 Accepted')"
            ]
          },
          "metadata": {},
          "execution_count": 48
        }
      ]
    },
    {
      "cell_type": "code",
      "source": [
        "# pip install requests\n",
        "\n",
        "import requests\n",
        "\n",
        "r = requests.get(\"https://api.apispreadsheets.com/data/pnqdhVwAJOoawi8M/\")\n",
        "\n",
        "if r.status_code == 200:\n",
        "\t# SUCCESS \n",
        "\tdata = r.json()[\"data\"]\n",
        "else:\n",
        "\t# ERROR\n",
        "\tdata=None\n",
        "\n",
        "\n",
        "for idx in range(len(data)):\n",
        "    # Get each records name, email, subject and message\n",
        "    first_name = data[idx][\"First_Name\"].strip()\n",
        "    last_name = data[idx][\"Last_Name\"]    \n",
        "    email = data[idx][\"Email\"].strip()    \n",
        "    subject = data[idx][\"Subject\"].strip()    \n",
        "    body = data[idx][\"Body\"].strip()\n",
        "\n",
        "    full_email = (\"From: {0} <{1}>\\n\"\n",
        "                  \"To:{2} <{3}>\\n\"\n",
        "                  \"Subject: {4}\\n\\n\"\n",
        "                  \"Hello World!\"\n",
        "                      .format(your_name, your_email, email,first_name , subject, body))\n",
        "    try:\n",
        "        server.sendmail(your_email, [email], full_email)\n",
        "        print('Email to {} successfully sent!\\n\\n'.format(email))\n",
        "    except:\n",
        "        print('Email to {} could not be sent :( because {}\\n\\n'.format(email, str(email)))\n"
      ],
      "metadata": {
        "id": "oA3cd9PtpM62",
        "colab": {
          "base_uri": "https://localhost:8080/"
        },
        "outputId": "b80f5b93-d304-40e3-8717-b56775a4339e"
      },
      "execution_count": 49,
      "outputs": [
        {
          "output_type": "stream",
          "name": "stdout",
          "text": [
            "Email to alevinton151@gmail.com successfully sent!\n",
            "\n",
            "\n",
            "Email to kralessi17@gmail.com successfully sent!\n",
            "\n",
            "\n",
            "Email to alevinton@cortlandschools.org successfully sent!\n",
            "\n",
            "\n",
            "Email to alevinton151@gmail.com successfully sent!\n",
            "\n",
            "\n"
          ]
        }
      ]
    },
    {
      "cell_type": "code",
      "source": [
        "server.close()"
      ],
      "metadata": {
        "id": "5EYuR_AGuBnE"
      },
      "execution_count": 46,
      "outputs": []
    }
  ]
}